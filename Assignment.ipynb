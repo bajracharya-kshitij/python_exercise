{
 "cells": [
  {
   "cell_type": "markdown",
   "metadata": {},
   "source": [
    "## Solving Python exercises from http://www.practicepython.org/"
   ]
  },
  {
   "cell_type": "markdown",
   "metadata": {},
   "source": [
    "# 1. Character Input"
   ]
  },
  {
   "cell_type": "markdown",
   "metadata": {},
   "source": [
    "Create a program that asks the user to enter their name and their age. Print out a message addressed to them that tells them the year that they will turn 100 years old.\n",
    "\n",
    "Extras:\n",
    "\n",
    "1. Add on to the previous program by asking the user for another number and printing out that many copies of the previous message. (Hint: order of operations exists in Python)\n",
    "2. Print out that many copies of the previous message on separate lines. (Hint: the string \"\\n is the same as pressing the ENTER button)"
   ]
  },
  {
   "cell_type": "code",
   "execution_count": 26,
   "metadata": {},
   "outputs": [
    {
     "name": "stdout",
     "output_type": "stream",
     "text": [
      "Enter your name: t\n",
      "Enter your age: 47\n",
      "\n",
      "Hi t! You'll turn hundred in 2071.\n",
      "\n",
      "Enter a number: w\n",
      "Please enter a valid number.\n",
      "\n",
      "Enter a number: -14\n",
      "Please enter a valid number.\n",
      "\n",
      "Enter a number: 12\n",
      "\n",
      "Printing the message 12 times...\n",
      "\n",
      "Hi t! You'll turn hundred in 2071.\n",
      "\n",
      "Hi t! You'll turn hundred in 2071.\n",
      "\n",
      "Hi t! You'll turn hundred in 2071.\n",
      "\n",
      "Hi t! You'll turn hundred in 2071.\n",
      "\n",
      "Hi t! You'll turn hundred in 2071.\n",
      "\n",
      "Hi t! You'll turn hundred in 2071.\n",
      "\n",
      "Hi t! You'll turn hundred in 2071.\n",
      "\n",
      "Hi t! You'll turn hundred in 2071.\n",
      "\n",
      "Hi t! You'll turn hundred in 2071.\n",
      "\n",
      "Hi t! You'll turn hundred in 2071.\n",
      "\n",
      "Hi t! You'll turn hundred in 2071.\n",
      "\n",
      "Hi t! You'll turn hundred in 2071.\n"
     ]
    }
   ],
   "source": [
    "import datetime\n",
    "\n",
    "def getUserInput():\n",
    "    name = input(\"Enter your name: \")\n",
    "    age = -1\n",
    "    while age<0:\n",
    "        age = getValidatedNumber(input(\"Enter your age: \"))\n",
    "    return name,age\n",
    "\n",
    "def getValidatedNumber(num):\n",
    "    try:\n",
    "        num = int(num)\n",
    "    except:\n",
    "        print(\"Please enter a valid number.\")\n",
    "    if(not(type(num) is int)):\n",
    "        return -1\n",
    "    elif(num<0):\n",
    "        print(\"Please enter a valid number.\")\n",
    "    return num\n",
    "    \n",
    "def displayMessage(name,age):\n",
    "    noOfYearsLaterWhenUserTurnsHundred = 100 - age\n",
    "    currentYear = datetime.datetime.now().year\n",
    "    year = currentYear+noOfYearsLaterWhenUserTurnsHundred\n",
    "    if(noOfYearsLaterWhenUserTurnsHundred>0):\n",
    "        print(\"\\nHi {}! You'll turn hundred in {}.\".format(name,year))\n",
    "    elif(noOfYearsLaterWhenUserTurnsHundred==0):\n",
    "        print(\"\\nHi {}! You turn hundred this year.\".format(name))\n",
    "    else:\n",
    "        print(\"\\nHi {}! You already turned hundred in {}.\".format(name,year))\n",
    "\n",
    "if __name__ == '__main__':\n",
    "    name,age = getUserInput()\n",
    "    displayMessage(name,age)\n",
    "    n = -1\n",
    "    while n<0:\n",
    "        n = getValidatedNumber(input(\"\\nEnter a number: \"))\n",
    "    print(\"\\nPrinting the message\",n,\"times...\")\n",
    "    for i in range(n):\n",
    "        displayMessage(name,age)"
   ]
  },
  {
   "cell_type": "markdown",
   "metadata": {},
   "source": [
    "# 2. Odd Or Even"
   ]
  },
  {
   "cell_type": "markdown",
   "metadata": {},
   "source": [
    "Ask the user for a number. Depending on whether the number is even or odd, print out an appropriate message to the user. Hint: how does an even / odd number react differently when divided by 2?\n",
    "\n",
    "Extras:\n",
    "\n",
    "1. If the number is a multiple of 4, print out a different message.\n",
    "2. Ask the user for two numbers: one number to check (call it num) and one number to divide by (check). If check divides evenly into num, tell that to the user. If not, print a different appropriate message."
   ]
  },
  {
   "cell_type": "code",
   "execution_count": 42,
   "metadata": {},
   "outputs": [
    {
     "name": "stdout",
     "output_type": "stream",
     "text": [
      "Enter the number: 82\n",
      "82 is even.\n",
      "82 is not divisible by 4.\n",
      "Enter the dividend: 140\n",
      "Enter the divisor: 3\n",
      "140 is not divisible by 3\n"
     ]
    }
   ],
   "source": [
    "def getValidatedNumber(num):\n",
    "    try:\n",
    "        num = int(num)\n",
    "    except:\n",
    "        print(\"Please enter a valid number.\")\n",
    "    return num\n",
    "\n",
    "def askNumberUntilValidated(text):\n",
    "    numberValidated = False\n",
    "    while not(numberValidated):\n",
    "        number = getValidatedNumber(input(\"Enter the {}: \".format(text)))\n",
    "        numberValidated = type(number) is int\n",
    "    return number\n",
    "\n",
    "def checkNumberIsEvenOrOdd():\n",
    "    number = askNumberUntilValidated(\"number\")\n",
    "    print(number,\"is even.\") if (number%2==0) else print(number,\"is odd.\")\n",
    "    return number\n",
    "\n",
    "def checkDividendDivisibleByDivisor():\n",
    "    num = askNumberUntilValidated(\"dividend\")\n",
    "    check = askNumberUntilValidated(\"divisor\")\n",
    "    print(num,\"is divisible by\",check) if (num%check==0) else print(num,\"is not divisible by\",check)\n",
    "    \n",
    "if __name__ == '__main__':\n",
    "    number = checkNumberIsEvenOrOdd()\n",
    "    print(number,\"is divisible by 4.\") if (number%4==0) else print(number,\"is not divisible by 4.\")\n",
    "    checkDividendDivisibleByDivisor()"
   ]
  },
  {
   "cell_type": "markdown",
   "metadata": {},
   "source": [
    "# 3. List Less Than Five"
   ]
  },
  {
   "cell_type": "markdown",
   "metadata": {},
   "source": [
    "Take a list, say for example this one:\n",
    "\n",
    "  a = [1, 1, 2, 3, 5, 8, 13, 21, 34, 55, 89] <br><br>\n",
    "and write a program that prints out all the elements of the list that are less than 5.\n",
    "\n",
    "Extras:\n",
    "\n",
    "1. Instead of printing the elements one by one, make a new list that has all the elements less than 5 from this list in it and print out this new list.\n",
    "2. Write this in one line of Python.\n",
    "3. Ask the user for a number and return a list that contains only elements from the original list a that are smaller than that number given by the user."
   ]
  },
  {
   "cell_type": "code",
   "execution_count": 60,
   "metadata": {},
   "outputs": [
    {
     "name": "stdout",
     "output_type": "stream",
     "text": [
      "Printing elements less than five...\n",
      "1\n",
      "1\n",
      "2\n",
      "3\n",
      "\n",
      "Printing list with elements less than five...\n",
      "[1, 1, 2, 3]\n",
      "\n",
      "Using list comprehension...\n",
      "[1, 1, 2, 3]\n",
      "Enter a number: 50\n",
      "\n",
      "List with elements less than 50...\n",
      "[1, 1, 2, 3, 5, 8, 13, 21, 34]\n"
     ]
    }
   ],
   "source": [
    "def printElementsLessThanFive(l):\n",
    "    print(\"Printing elements less than five...\")\n",
    "    for element in l:\n",
    "        if element<5:\n",
    "            print(element)\n",
    "            \n",
    "def printListWithElementsLessThanFive(l):\n",
    "    new_list = []\n",
    "    print(\"\\nPrinting list with elements less than five...\")\n",
    "    for element in l:\n",
    "        if element<5:\n",
    "            new_list.append(element)\n",
    "    print(new_list)\n",
    "    \n",
    "def useListComprehension(l):\n",
    "    print(\"\\nUsing list comprehension...\")\n",
    "    print([l for l in l if l<5])\n",
    "    \n",
    "def getListWithElementLessThanUserInputNumber(l,num):\n",
    "    print(\"\\nList with elements less than {}...\".format(num))\n",
    "    print([l for l in l if l<num])\n",
    "    \n",
    "def getValidatedNumber(num):\n",
    "    try:\n",
    "        num = int(num)\n",
    "    except:\n",
    "        print(\"Please enter a valid number.\")\n",
    "    return num\n",
    "\n",
    "def askNumberUntilValidated():\n",
    "    numberValidated = False\n",
    "    while not(numberValidated):\n",
    "        number = getValidatedNumber(input(\"Enter a number: \"))\n",
    "        numberValidated = type(number) is int\n",
    "    return number\n",
    "    \n",
    "if __name__ == '__main__':\n",
    "    a = [1, 1, 2, 3, 5, 8, 13, 21, 34, 55, 89]\n",
    "    printElementsLessThanFive(a)\n",
    "    printListWithElementsLessThanFive(a)\n",
    "    useListComprehension(a)\n",
    "    n = askNumberUntilValidated()\n",
    "    getListWithElementLessThanUserInputNumber(a,n)"
   ]
  },
  {
   "cell_type": "markdown",
   "metadata": {},
   "source": [
    "# 4. Divisors"
   ]
  },
  {
   "cell_type": "markdown",
   "metadata": {},
   "source": [
    "Create a program that asks the user for a number and then prints out a list of all the divisors of that number. (If you don’t know what a divisor is, it is a number that divides evenly into another number. For example, 13 is a divisor of 26 because 26 / 13 has no remainder.)"
   ]
  },
  {
   "cell_type": "code",
   "execution_count": 68,
   "metadata": {},
   "outputs": [
    {
     "name": "stdout",
     "output_type": "stream",
     "text": [
      "Enter a number: sd\n",
      "Please enter a valid number.\n",
      "Enter a number: sf\n",
      "Please enter a valid number.\n",
      "Enter a number: ``\n",
      "Please enter a valid number.\n",
      "Enter a number: -1\n",
      "The list of divisors for -1 is []\n"
     ]
    }
   ],
   "source": [
    "def getValidatedNumber(num):\n",
    "    try:\n",
    "        num = int(num)\n",
    "    except:\n",
    "        print(\"Please enter a valid number.\")\n",
    "    return num\n",
    "\n",
    "def askNumberUntilValidated():\n",
    "    numberValidated = False\n",
    "    while not(numberValidated):\n",
    "        number = getValidatedNumber(input(\"Enter a number: \"))\n",
    "        numberValidated = type(number) is int\n",
    "    return number\n",
    "\n",
    "if __name__ == '__main__':\n",
    "    n = askNumberUntilValidated()\n",
    "    divisors = [(i+1) for i in range(n) if (n%(i+1)==0)]\n",
    "    print(\"The list of divisors for {} is {}\".format(n, divisors))"
   ]
  },
  {
   "cell_type": "markdown",
   "metadata": {},
   "source": [
    "# 5. List Overlap"
   ]
  },
  {
   "cell_type": "markdown",
   "metadata": {},
   "source": [
    "Take two lists, say for example these two:\n",
    "\n",
    "  a = [1, 1, 2, 3, 5, 8, 13, 21, 34, 55, 89] <br>\n",
    "  b = [1, 2, 3, 4, 5, 6, 7, 8, 9, 10, 11, 12, 13]\n",
    "  \n",
    "and write a program that returns a list that contains only the elements that are common between the lists (without duplicates). Make sure your program works on two lists of different sizes.\n",
    "\n",
    "Extras:\n",
    "\n",
    "1. Randomly generate two lists to test this\n",
    "2. Write this in one line of Python (don’t worry if you can’t figure this out at this point - we’ll get to it soon)"
   ]
  },
  {
   "cell_type": "code",
   "execution_count": 4,
   "metadata": {},
   "outputs": [
    {
     "name": "stdout",
     "output_type": "stream",
     "text": [
      "The list of numbers that appear in both lists is [1, 2, 3, 5, 8, 13]\n",
      "Enter number of items in first list: 25\n",
      "Enter number of items in second list: 20\n",
      "The first list is [52, 28, 63, 81, 39, 1, 60, 29, 64, 94, 86, 41, 24, 36, 58, 91, 40, 40, 48, 3, 19, 96, 64, 59, 76]\n",
      "The second list is [10, 81, 19, 36, 23, 47, 67, 26, 41, 18, 72, 92, 79, 67, 49, 87, 72, 25, 16, 72]\n",
      "The list of numbers that appear in both lists is [81, 19, 36, 41]\n",
      "The list of numbers that appear in both lists with list comprehension is [81, 19, 36, 41]\n"
     ]
    }
   ],
   "source": [
    "import random\n",
    "\n",
    "def getValidatedNumber(num):\n",
    "    try:\n",
    "        num = int(num)\n",
    "    except:\n",
    "        print(\"Please enter a valid number.\")\n",
    "    return num\n",
    "\n",
    "def askNumberUntilValidated(text):\n",
    "    numberValidated = False\n",
    "    while not(numberValidated):\n",
    "        number = getValidatedNumber(input(\"{}: \".format(text)))\n",
    "        numberValidated = type(number) is int\n",
    "    return number\n",
    "\n",
    "def getListOverlap(la,lb):\n",
    "    common_list = set([])\n",
    "    for ea in la:\n",
    "        if(ea in lb):\n",
    "            common_list.add(ea)\n",
    "    return list(common_list)\n",
    "\n",
    "def generateListOfNumbers(n):\n",
    "    number_list = []\n",
    "    for i in range(n):\n",
    "        number_list.append(random.randint(1,100))\n",
    "    return number_list\n",
    "\n",
    "def getListOverlapWithListComprehension(la,lb):\n",
    "    return list(set([ea for ea in la if ea in lb]))\n",
    "\n",
    "if __name__ == '__main__':\n",
    "    a = [1, 1, 2, 3, 5, 8, 13, 21, 34, 55, 89] \n",
    "    b = [1, 2, 3, 4, 5, 6, 7, 8, 9, 10, 11, 12, 13]\n",
    "    print(\"The list of numbers that appear in both lists is\",getListOverlap(a,b))\n",
    "    \n",
    "    random_list_one_size = askNumberUntilValidated(\"Enter number of items in first list\")\n",
    "    random_list_two_size = askNumberUntilValidated(\"Enter number of items in second list\")\n",
    "    random_list_one = generateListOfNumbers(random_list_one_size)\n",
    "    random_list_two = generateListOfNumbers(random_list_two_size)\n",
    "    print(\"The first list is\", random_list_one)\n",
    "    print(\"The second list is\", random_list_two)\n",
    "    print(\"The list of numbers that appear in both lists is\",getListOverlap(random_list_one,random_list_two))\n",
    "    print(\"The list of numbers that appear in both lists with list comprehension is\",getListOverlapWithListComprehension(random_list_one,random_list_two))"
   ]
  },
  {
   "cell_type": "markdown",
   "metadata": {},
   "source": [
    "# 6. String Lists"
   ]
  },
  {
   "cell_type": "markdown",
   "metadata": {},
   "source": [
    "Ask the user for a string and print out whether this string is a palindrome or not. (A palindrome is a string that reads the same forwards and backwards.)"
   ]
  },
  {
   "cell_type": "code",
   "execution_count": 11,
   "metadata": {},
   "outputs": [
    {
     "name": "stdout",
     "output_type": "stream",
     "text": [
      "Enter a string: ABBCCBBA\n",
      "The input text ABBCCBBA is a palindrome.\n"
     ]
    }
   ],
   "source": [
    "if __name__ == '__main__':\n",
    "    text = input('Enter a string: ')\n",
    "    if (text == text[::-1]):\n",
    "        print(\"The input text {} is a palindrome.\".format(text))\n",
    "    else:\n",
    "        print(\"The input text {} is not a palindrome.\".format(text))"
   ]
  },
  {
   "cell_type": "markdown",
   "metadata": {},
   "source": [
    "# 7. List Comprehensions"
   ]
  },
  {
   "cell_type": "markdown",
   "metadata": {},
   "source": [
    "Let’s say I give you a list saved in a variable: a = [1, 4, 9, 16, 25, 36, 49, 64, 81, 100]. Write one line of Python that takes this list a and makes a new list that has only the even elements of this list in it."
   ]
  },
  {
   "cell_type": "code",
   "execution_count": 12,
   "metadata": {},
   "outputs": [
    {
     "name": "stdout",
     "output_type": "stream",
     "text": [
      "List with only even elements is [4, 16, 36, 64, 100]\n"
     ]
    }
   ],
   "source": [
    "if __name__ == '__main__':\n",
    "    a = [1, 4, 9, 16, 25, 36, 49, 64, 81, 100]\n",
    "    print(\"List with only even elements is\", [e for e in a if e%2==0])"
   ]
  },
  {
   "cell_type": "markdown",
   "metadata": {},
   "source": [
    "# 8. Rock Paper Scissors"
   ]
  },
  {
   "cell_type": "markdown",
   "metadata": {},
   "source": [
    "Make a two-player Rock-Paper-Scissors game. (Hint: Ask for player plays (using input), compare them, print out a message of congratulations to the winner, and ask if the players want to start a new game)\n",
    "\n",
    "Remember the rules:\n",
    "\n",
    "-  Rock beats scissors\n",
    "-  Scissors beats paper\n",
    "-  Paper beats rock"
   ]
  },
  {
   "cell_type": "code",
   "execution_count": 37,
   "metadata": {},
   "outputs": [
    {
     "name": "stdout",
     "output_type": "stream",
     "text": [
      "1 for Rock\n",
      "2 for Paper\n",
      "3 for Scissor\n",
      "Enter your choice User1: 4\n",
      "Please enter a valid number : 1, 2 or 3.\n",
      "1 for Rock\n",
      "2 for Paper\n",
      "3 for Scissor\n",
      "Enter your choice User1: 1\n",
      "1 for Rock\n",
      "2 for Paper\n",
      "3 for Scissor\n",
      "Enter your choice User2: 1\n",
      "User1 selected Rock\n",
      "User2 selected Rock \n",
      "\n",
      "It's a tie!\n"
     ]
    }
   ],
   "source": [
    "def getValidatedNumber(num):\n",
    "    try:\n",
    "        num = int(num)\n",
    "    except:\n",
    "        print(\"Please enter a valid number.\")\n",
    "    return num\n",
    "\n",
    "def askNumberUntilValidated(text):\n",
    "    numberValidated = False\n",
    "    while not(numberValidated):\n",
    "        number = getValidatedNumber(input(\"{}: \".format(text)))\n",
    "        if((type(number) is int) and (number in [1,2,3])):\n",
    "            numberValidated = True\n",
    "        else:\n",
    "            print(\"Please enter a valid number : 1, 2 or 3.\")\n",
    "            numberValidated = False\n",
    "    return number\n",
    "\n",
    "def getUserInput(username):\n",
    "    return askNumberUntilValidated(\"1 for Rock\\n2 for Paper\\n3 for Scissor\\nEnter your choice {}\".format(username))\n",
    "    \n",
    "def findWinner(user1_input,user2_input):\n",
    "    selection_map = {1:\"Rock\",2:\"Paper\",3:\"Scissor\"}\n",
    "    print(\"User1 selected\", selection_map[user1_input])\n",
    "    print(\"User2 selected\", selection_map[user2_input],\"\\n\")\n",
    "    if(user1_input==user2_input):\n",
    "        print(\"It's a tie!\")\n",
    "    elif(user1_input==1):\n",
    "        if(user2_input==2):\n",
    "            print(\"User2 is the winner! {} covers {}!\".format(selection_map[user2_input],selection_map[user1_input]))\n",
    "        elif(user2_input==3):\n",
    "            print(\"User1 is the winner! {} crushes {}!\".format(selection_map[user1_input],selection_map[user2_input]))\n",
    "    elif(user1_input==2):\n",
    "        if(user2_input==3):\n",
    "            print(\"User2 is the winner! {} cuts {}!\".format(selection_map[user2_input],selection_map[user1_input]))\n",
    "        elif(user2_input==1):\n",
    "            print(\"User1 is the winner! {} covers {}!\".format(selection_map[user1_input],selection_map[user2_input]))\n",
    "    elif(user1_input==3):\n",
    "        if(user2_input==1):\n",
    "            print(\"User2 is the winner! {} crushes {}!\".format(selection_map[user2_input],selection_map[user1_input]))\n",
    "        elif(user2_input==2):\n",
    "            print(\"User1 is the winner! {} cuts {}!\".format(selection_map[user1_input],selection_map[user2_input]))\n",
    "        \n",
    "if __name__ == '__main__':\n",
    "    user1_input = getUserInput(\"User1\")\n",
    "    user2_input = getUserInput(\"User2\")\n",
    "    findWinner(user1_input,user2_input)"
   ]
  },
  {
   "cell_type": "markdown",
   "metadata": {},
   "source": [
    "# 9. Guessing Game One"
   ]
  },
  {
   "cell_type": "markdown",
   "metadata": {},
   "source": [
    "Generate a random number between 1 and 9 (including 1 and 9). Ask the user to guess the number, then tell them whether they guessed too low, too high, or exactly right. (Hint: remember to use the user input lessons from the very first exercise)\n",
    "\n",
    "Extras:\n",
    "\n",
    "-  Keep the game going until the user types “exit”\n",
    "-  Keep track of how many guesses the user has taken, and when the game ends, print this out."
   ]
  },
  {
   "cell_type": "code",
   "execution_count": 61,
   "metadata": {},
   "outputs": [
    {
     "name": "stdout",
     "output_type": "stream",
     "text": [
      "The computer has generated a random number between 1 and 9 inclusive.\n",
      "Guess the number: asd\n",
      "Please enter a valid number or type exit.\n",
      "Guess the number: exit\n",
      "Thanks for trying. You made 0 valid attempts before giving up. The number was 6.\n"
     ]
    }
   ],
   "source": [
    "import random\n",
    "\n",
    "def getValidatedNumber(user_input):\n",
    "    try:\n",
    "        if(user_input==\"exit\"):\n",
    "            return user_input\n",
    "        user_input = int(user_input)\n",
    "    except:\n",
    "        print(\"Please enter a valid number or type exit.\")\n",
    "    return user_input\n",
    "\n",
    "def askNumberUntilValidated(text):\n",
    "    userInputValidated = False\n",
    "    while not(userInputValidated):\n",
    "        user_input = getValidatedNumber(input(\"{}: \".format(text)))\n",
    "        if((user_input==\"exit\") or (user_input in [i for i in range(1,10)])):\n",
    "            userInputValidated = True\n",
    "        elif(type(user_input) is int):\n",
    "            print(\"Please enter a valid number between 1 and 9 or type exit\")\n",
    "            userInputValidated = False\n",
    "    return user_input\n",
    "\n",
    "def getRandomNumber():\n",
    "    return random.randint(1,9)\n",
    "\n",
    "if __name__ == '__main__':\n",
    "    number = getRandomNumber()\n",
    "    print(\"The computer has generated a random number between 1 and 9 inclusive.\")\n",
    "    guess = -1\n",
    "    guess_count = 0\n",
    "    while not(guess==number or guess==\"exit\"):\n",
    "        guess = askNumberUntilValidated(\"Guess the number\")\n",
    "        if(type(guess) is int):\n",
    "            guess_count += 1\n",
    "            if(guess<number):\n",
    "                print(\"Too low!\")\n",
    "            elif(guess>number):\n",
    "                print(\"Too high!\")\n",
    "    if(guess==\"exit\"):\n",
    "        print(\"Thanks for trying. You made {} valid attempts before giving up. The number was {}.\".format(guess_count,number))\n",
    "    else:\n",
    "        print(\"That's correct! {} is the number. You took {} valid attempts to make the correct guess.\".format(number, guess_count))\n",
    "    "
   ]
  },
  {
   "cell_type": "markdown",
   "metadata": {},
   "source": [
    "# 10. List Overlap Comprehensions"
   ]
  },
  {
   "cell_type": "markdown",
   "metadata": {},
   "source": [
    "This exercise is going to be revisiting an old exercise (see Exercise 5), except require the solution in a different way.\n",
    "\n",
    "Take two lists, say for example these two:\n",
    "\n",
    "\ta = [1, 1, 2, 3, 5, 8, 13, 21, 34, 55, 89]\n",
    "\tb = [1, 2, 3, 4, 5, 6, 7, 8, 9, 10, 11, 12, 13]\n",
    "and write a program that returns a list that contains only the elements that are common between the lists (without duplicates). Make sure your program works on two lists of different sizes. Write this in one line of Python using at least one list comprehension. (Hint: Remember list comprehensions from Exercise 7).\n",
    "\n",
    "Extra:\n",
    "\n",
    "-  Randomly generate two lists to test this"
   ]
  },
  {
   "cell_type": "markdown",
   "metadata": {},
   "source": [
    "**Already done in Exercise 5**"
   ]
  },
  {
   "cell_type": "markdown",
   "metadata": {},
   "source": [
    "# 11. Check Primality Functions"
   ]
  },
  {
   "cell_type": "markdown",
   "metadata": {},
   "source": [
    "Ask the user for a number and determine whether the number is prime or not. (For those who have forgotten, a prime number is a number that has no divisors.). You can (and should!) use your answer to Exercise 4 to help you. Take this opportunity to practice using functions."
   ]
  },
  {
   "cell_type": "code",
   "execution_count": 73,
   "metadata": {},
   "outputs": [
    {
     "name": "stdout",
     "output_type": "stream",
     "text": [
      "Enter a number: 97\n",
      "97 is a prime number.\n"
     ]
    }
   ],
   "source": [
    "def getValidatedNumber(num):\n",
    "    try:\n",
    "        num = int(num)\n",
    "    except:\n",
    "        print(\"Please enter a valid number.\")\n",
    "    return num\n",
    "\n",
    "def askNumberUntilValidated():\n",
    "    numberValidated = False\n",
    "    while not(numberValidated):\n",
    "        number = getValidatedNumber(input(\"Enter a number: \"))\n",
    "        if((type(number) is int) and number>1):\n",
    "            numberValidated = True\n",
    "        else:\n",
    "            print(\"Please enter a positive number.\")\n",
    "    return number\n",
    "\n",
    "def checkNumberIsPrimeOrNot(number):\n",
    "    has_a_divisor = False\n",
    "    for i in range(number//2):\n",
    "        has_a_divisor = (number%(i+1)==0) and ((i+1)>1)\n",
    "        if(has_a_divisor):\n",
    "            print(number,\"is not a prime number.\")\n",
    "            break\n",
    "    if(not(has_a_divisor)):\n",
    "        print(number,\"is a prime number.\")\n",
    "    \n",
    "if __name__ == '__main__':\n",
    "    n = askNumberUntilValidated()\n",
    "    checkNumberIsPrimeOrNot(n)\n",
    "    "
   ]
  },
  {
   "cell_type": "code",
   "execution_count": null,
   "metadata": {},
   "outputs": [],
   "source": []
  }
 ],
 "metadata": {
  "kernelspec": {
   "display_name": "Python 3",
   "language": "python",
   "name": "python3"
  },
  "language_info": {
   "codemirror_mode": {
    "name": "ipython",
    "version": 3
   },
   "file_extension": ".py",
   "mimetype": "text/x-python",
   "name": "python",
   "nbconvert_exporter": "python",
   "pygments_lexer": "ipython3",
   "version": "3.6.4"
  }
 },
 "nbformat": 4,
 "nbformat_minor": 2
}
